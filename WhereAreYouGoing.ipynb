{
  "cells": [
    {
      "cell_type": "markdown",
      "metadata": {
        "id": "view-in-github",
        "colab_type": "text"
      },
      "source": [
        "<a href=\"https://colab.research.google.com/github/SamuelKao/Predicting-NYC-taxi-destination/blob/main/WhereAreYouGoing.ipynb\" target=\"_parent\"><img src=\"https://colab.research.google.com/assets/colab-badge.svg\" alt=\"Open In Colab\"/></a>"
      ]
    },
    {
      "cell_type": "code",
      "execution_count": 3,
      "metadata": {
        "id": "0Y6rRr9alYSw",
        "colab": {
          "base_uri": "https://localhost:8080/"
        },
        "outputId": "a8c69441-6c5f-49a4-a9ba-f9820d83ed59"
      },
      "outputs": [
        {
          "output_type": "stream",
          "name": "stdout",
          "text": [
            "Mounted at /content/drive\n"
          ]
        }
      ],
      "source": [
        "from google.colab import drive\n",
        "drive.mount('/content/drive')"
      ]
    },
    {
      "cell_type": "code",
      "execution_count": 2,
      "metadata": {
        "id": "jQJG3v_SXiQT",
        "colab": {
          "base_uri": "https://localhost:8080/"
        },
        "outputId": "da301f00-6c26-41c2-f38e-1653380322a2"
      },
      "outputs": [
        {
          "output_type": "stream",
          "name": "stdout",
          "text": [
            "Requirement already satisfied: holidays in /usr/local/lib/python3.10/dist-packages (0.61)\n",
            "Requirement already satisfied: python-dateutil in /usr/local/lib/python3.10/dist-packages (from holidays) (2.8.2)\n",
            "Requirement already satisfied: six>=1.5 in /usr/local/lib/python3.10/dist-packages (from python-dateutil->holidays) (1.16.0)\n",
            "Requirement already satisfied: openpyxl in /usr/local/lib/python3.10/dist-packages (3.1.5)\n",
            "Requirement already satisfied: et-xmlfile in /usr/local/lib/python3.10/dist-packages (from openpyxl) (2.0.0)\n"
          ]
        }
      ],
      "source": [
        "!pip install holidays\n",
        "!pip install openpyxl"
      ]
    },
    {
      "cell_type": "markdown",
      "metadata": {
        "id": "qgvjwZN5dCDS"
      },
      "source": [
        "## Import statements"
      ]
    },
    {
      "cell_type": "code",
      "execution_count": 4,
      "metadata": {
        "id": "Zfrv3z55dBHz"
      },
      "outputs": [],
      "source": [
        "# Other imports\n",
        "import pandas as pd\n",
        "from datetime import datetime, date\n",
        "import numpy as np\n",
        "import holidays\n",
        "import os\n",
        "import matplotlib.pyplot as plt\n",
        "import seaborn as sns\n",
        "\n",
        "# Sklearn imports\n",
        "import sklearn\n",
        "from sklearn.metrics import accuracy_score\n",
        "from sklearn.model_selection import train_test_split\n",
        "from sklearn.ensemble import RandomForestClassifier\n",
        "from sklearn.tree import DecisionTreeClassifier\n",
        "from sklearn.preprocessing import OneHotEncoder\n",
        "from sklearn.tree import plot_tree\n",
        "from sklearn.neural_network import MLPClassifier\n",
        "from sklearn.linear_model import LogisticRegression\n",
        "\n",
        "# Torch imports\n",
        "import torch\n",
        "import torch.nn as nn\n",
        "import torch.optim as optim\n",
        "from torch.utils.data import DataLoader, TensorDataset, random_split\n",
        "\n"
      ]
    },
    {
      "cell_type": "markdown",
      "metadata": {
        "id": "i9BYAuaXa7jC"
      },
      "source": [
        "## Loading data\n",
        "\n"
      ]
    },
    {
      "cell_type": "code",
      "execution_count": 13,
      "metadata": {
        "id": "RmHaIECdUiOr",
        "colab": {
          "base_uri": "https://localhost:8080/"
        },
        "outputId": "4a1b4b24-0da7-4c8c-c577-7eb2ddeee428"
      },
      "outputs": [
        {
          "output_type": "stream",
          "name": "stdout",
          "text": [
            "Total number of rows in all files: 38310226\n"
          ]
        }
      ],
      "source": [
        "#df = pd.read_parquet('/content/drive/My Drive/CSE151GP/data/yellow_tripdata_2023-03.parquet')\n",
        "#print(df.head(10))\n",
        "\n",
        "df_list = []\n",
        "\n",
        "file_names = [f'/content/drive/My Drive/CSE151GP/data/yellow_tripdata_2023-{month:02}.parquet' for month in range(1, 13)]\n",
        "\n",
        "total_rows = 0\n",
        "\n",
        "for file_name in file_names:\n",
        "  try:\n",
        "    df = pd.read_parquet(file_name)\n",
        "    df_list.append(df)\n",
        "    total_rows += df.shape[0]\n",
        "  except FileNotFoundError:\n",
        "    print(f\"File not found: {file_name}\")\n",
        "\n",
        "print(f\"Total number of rows in all files: {total_rows}\")\n",
        "\n"
      ]
    },
    {
      "cell_type": "markdown",
      "source": [
        "## Info about data"
      ],
      "metadata": {
        "id": "MzdxQNDjz-5B"
      }
    },
    {
      "cell_type": "code",
      "execution_count": null,
      "metadata": {
        "id": "1RIAQ6O3hERw"
      },
      "outputs": [],
      "source": [
        "df_list[0].info()"
      ]
    },
    {
      "cell_type": "code",
      "execution_count": null,
      "metadata": {
        "id": "G11Q5A4NiOuH"
      },
      "outputs": [],
      "source": [
        "df_list[1].describe()"
      ]
    },
    {
      "cell_type": "markdown",
      "metadata": {
        "id": "EMiaCYbP5CxN"
      },
      "source": [
        "## Checking for missing values"
      ]
    },
    {
      "cell_type": "code",
      "execution_count": null,
      "metadata": {
        "id": "AhQS94gSge8k"
      },
      "outputs": [],
      "source": [
        "# prompt: Can you write code that goes through all 12 dfs in df_list and counts how many missing values there are for each column\n",
        "total_missing_values = 0\n",
        "\n",
        "for i, df in enumerate(df_list):\n",
        "  print(f\"DataFrame {i+1}:\")\n",
        "  missing_counts = df.isnull().sum()\n",
        "  total_missing_values += missing_counts.sum()\n",
        "  print(missing_counts)\n",
        "  print(\"-\" * 25)\n",
        "print(f\"Total missing values: {total_missing_values}\")"
      ]
    },
    {
      "cell_type": "markdown",
      "metadata": {
        "id": "CTDhqR9qFIaM"
      },
      "source": [
        "## Plotting the data"
      ]
    },
    {
      "cell_type": "code",
      "execution_count": null,
      "metadata": {
        "id": "jURPOyM4bzSg"
      },
      "outputs": [],
      "source": [
        "# in order to plot some of the data from all the different months in df_list\n",
        "# a random sample is taken from every df in df_list\n",
        "\n",
        "# prompt: randomly sample a fraction of the data in every df in df_list and combine it into a new df\n",
        "\n",
        "def sample_and_combine(df_list, fraction=0.1):\n",
        "    \"\"\"Randomly samples a fraction of data from each DataFrame in a list and combines them.\n",
        "\n",
        "    Args:\n",
        "        df_list: A list of pandas DataFrames.\n",
        "        fraction: The fraction of data to sample from each DataFrame (default is 0.1).\n",
        "\n",
        "    Returns:\n",
        "        A new pandas DataFrame containing the combined samples, or None if df_list is empty or invalid.\n",
        "    \"\"\"\n",
        "\n",
        "    if not isinstance(df_list, list) or not all(isinstance(df, pd.DataFrame) for df in df_list):\n",
        "        print(\"Error: Invalid input. df_list must be a list of pandas DataFrames.\")\n",
        "        return None\n",
        "\n",
        "    if not df_list:\n",
        "        print(\"Error: Empty input list.\")\n",
        "        return None\n",
        "\n",
        "    sampled_dfs = []\n",
        "    for df in df_list:\n",
        "        try:\n",
        "            sampled_df = df.sample(frac=fraction, random_state=42) # Use a consistent random state for reproducibility\n",
        "            sampled_dfs.append(sampled_df)\n",
        "        except ValueError as e:  # Handle cases where fraction results in less than 1 sample\n",
        "            print(f\"Warning: Sampling fraction resulted in an error for a DataFrame: {e}. Skipping this DataFrame.\")\n",
        "            continue\n",
        "\n",
        "    if not sampled_dfs: # Check if any dataframes were sampled\n",
        "        print(\"Warning: No DataFrames were successfully sampled.\")\n",
        "        return None\n",
        "\n",
        "    combined_df = pd.concat(sampled_dfs, ignore_index=True)\n",
        "    return combined_df\n",
        "\n",
        "# Example usage (assuming df_list is defined as in your provided code):\n",
        "combined_sample = sample_and_combine(df_list, fraction=0.005)\n",
        "\n",
        "if combined_sample is not None:\n",
        "    print(combined_sample.head())\n",
        "    print(combined_sample.info())"
      ]
    },
    {
      "cell_type": "code",
      "execution_count": null,
      "metadata": {
        "id": "BmMsky5fHAAA"
      },
      "outputs": [],
      "source": [
        "# prompt: plot histograms for all the features in df in subplots\n",
        "\n",
        "\n",
        "# Assuming 'df' is your DataFrame (replace with your actual DataFrame name)\n",
        "# Assuming you want to plot only numerical features.\n",
        "numerical_features = combined_sample.select_dtypes(include=np.number).columns\n",
        "\n",
        "num_plots = len(numerical_features)\n",
        "num_cols = 3  # Number of columns in the subplot grid\n",
        "num_rows = (num_plots + num_cols - 1) // num_cols  # Calculate the number of rows\n",
        "\n",
        "fig, axes = plt.subplots(num_rows, num_cols, figsize=(15, 5 * num_rows))\n",
        "axes = axes.flatten()  # Flatten the axes array for easier iteration\n",
        "\n",
        "for i, feature in enumerate(numerical_features):\n",
        "    if i < num_plots:\n",
        "      axes[i].hist(combined_sample[feature].dropna(), bins=30) # Drop NaN values before plotting\n",
        "      axes[i].set_title(f'Histogram of {feature}')\n",
        "      axes[i].set_xlabel(feature)\n",
        "      axes[i].set_ylabel('Frequency')\n",
        "\n",
        "# Turn off any unused subplots\n",
        "for j in range(i + 1, len(axes)):\n",
        "    axes[j].axis('off')\n",
        "\n",
        "plt.tight_layout()\n",
        "plt.show()"
      ]
    },
    {
      "cell_type": "code",
      "execution_count": null,
      "metadata": {
        "id": "2sfY_iPwFUrw",
        "colab": {
          "base_uri": "https://localhost:8080/",
          "height": 1000
        },
        "outputId": "97276e51-1dbf-4176-86dc-88314db7aa66"
      },
      "outputs": [
        {
          "output_type": "display_data",
          "data": {
            "text/plain": [
              "<Figure size 1000x500 with 1 Axes>"
            ],
            "image/png": "[encoded data removed]"
          },
          "metadata": {}
        },
        {
          "output_type": "display_data",
          "data": {
            "text/plain": [
              "<Figure size 1000x500 with 1 Axes>"
            ],
            "image/png": "[encoded data removed]"
          },
          "metadata": {}
        }
      ],
      "source": [
        "# Plot histogram of dates\n",
        "# Sample code to plot the histogram\n",
        "plt.figure(figsize=(10, 5))\n",
        "combined_sample['tpep_pickup_datetime'].dt.date.value_counts().sort_index().plot(kind='bar')\n",
        "plt.xlabel('Date')\n",
        "plt.ylabel('Frequency')\n",
        "plt.title('Histogram of Dates')\n",
        "\n",
        "# Generate the list of first days of each month in the data range\n",
        "date_range = combined_sample['tpep_pickup_datetime'].dt.date\n",
        "first_of_month = pd.date_range(start=date_range.min(), end=date_range.max(), freq='MS').date\n",
        "\n",
        "# Set the ticks on the x-axis to show only the first day of each month\n",
        "plt.xticks(\n",
        "    ticks=range(len(date_range.unique())),\n",
        "    labels=[date if date in first_of_month else '' for date in date_range.unique()],\n",
        "    rotation=45\n",
        ")\n",
        "\n",
        "plt.show()\n",
        "\n",
        "# Plot histogram of times (hours) across the day\n",
        "plt.figure(figsize=(10, 5))\n",
        "combined_sample['tpep_pickup_datetime'].dt.hour.plot(kind='hist', bins=24)\n",
        "plt.xlabel('Hour of Day')\n",
        "plt.ylabel('Frequency')\n",
        "plt.title('Histogram of Times (Hours)')\n",
        "plt.show()"
      ]
    },
    {
      "cell_type": "code",
      "execution_count": null,
      "metadata": {
        "id": "DbTOubRdipKW",
        "colab": {
          "base_uri": "https://localhost:8080/"
        },
        "outputId": "65a3171d-41a1-4005-cc7c-8690e458cf5c"
      },
      "outputs": [
        {
          "output_type": "stream",
          "name": "stdout",
          "text": [
            "tpep_pickup_datetime\n",
            "2008-12-31     1\n",
            "2023-09-22    23\n",
            "2023-09-23    15\n",
            "2023-09-24    18\n",
            "Name: count, dtype: int64\n"
          ]
        }
      ],
      "source": [
        "\n",
        "dates_below_hundred = combined_sample['tpep_pickup_datetime'].dt.date.value_counts()\n",
        "dates_below_hundred = dates_below_hundred[dates_below_hundred < 100].sort_index()\n",
        "\n",
        "# Display the dates and their frequencies\n",
        "print(dates_below_hundred)"
      ]
    },
    {
      "cell_type": "code",
      "execution_count": null,
      "metadata": {
        "id": "tXVfOLuGWWSl",
        "collapsed": true
      },
      "outputs": [],
      "source": [
        "# prompt: plot scatters for combined_sample\n",
        "\n",
        "# Assuming 'combined_sample' DataFrame is already created and available.\n",
        "\n",
        "# Create scatter plots for numerical features against each other\n",
        "\n",
        "# Select numerical features (excluding date/time)\n",
        "numerical_cols = combined_sample.select_dtypes(include=['number']).columns.tolist()\n",
        "numerical_cols.remove('passenger_count')\n",
        "numerical_cols.remove('trip_distance')\n",
        "\n",
        "# Create pair plot\n",
        "sns.pairplot(combined_sample[numerical_cols], diag_kind='kde')\n",
        "plt.show()"
      ]
    },
    {
      "cell_type": "markdown",
      "metadata": {
        "id": "ktAY826O5Q1b"
      },
      "source": [
        "## Location Encoding"
      ]
    },
    {
      "cell_type": "code",
      "source": [
        "# Create a dictionary to store coordinates for each LocationID\n",
        "file_name = '/content/drive/MyDrive/CSE151GP/taxi_zones.tsv'\n",
        "\n",
        "data = pd.read_csv(file_name, sep='\\t')  # Use sep='\\t' for tab-separated values\n",
        "location_coords = {}\n",
        "for index, row in data.iterrows():  # Iterate through each row of 'data' DataFrame\n",
        "    location_id = row['LocationID']\n",
        "\n",
        "    # Handle missing geometry data\n",
        "    if type(row['the_geom']) == float:\n",
        "        coordx, coordy = 0, 0  # Or any default values you prefer\n",
        "    else:\n",
        "        # Extract coordinates from the_geom string\n",
        "        coords_str = row['the_geom'].replace(\"MULTIPOLYGON\", \"\").replace(\"(\", \"\").replace(\")\", \"\").strip().split(',')\n",
        "        mean_coords = []\n",
        "        for pair in coords_str:\n",
        "            cords = pair.split()\n",
        "            mean_coords.append([float(cords[0]), float(cords[1])])\n",
        "        coordx, coordy = np.mean([x[0] for x in mean_coords]), np.mean([x[1] for x in mean_coords])\n",
        "    location_coords[location_id] = (coordx, coordy)"
      ],
      "metadata": {
        "id": "oqNl9Mek9SNa"
      },
      "execution_count": 14,
      "outputs": []
    },
    {
      "cell_type": "code",
      "source": [
        "def processPickupLocation(df):\n",
        "\n",
        "    # Add coordx and coordy columns to df based on PULocationID\n",
        "    df['coordx'] = df['PULocationID'].map(lambda location_id: location_coords.get(location_id, (0, 0))[0])\n",
        "    df['coordy'] = df['PULocationID'].map(lambda location_id: location_coords.get(location_id, (0, 0))[1])\n",
        "    for index, row in df.iterrows():\n",
        "      if row['coordx'] == 0:\n",
        "        print(row)\n",
        "    # 0-1 normalization\n",
        "    df['coordx'] = df['coordx'] + 100 # dirty trick\n",
        "    print(df['coordy'].max())\n",
        "    print(df['coordy'].min())\n",
        "    df['coordx'] = (df['coordx'] - df['coordx'].min()) / (df['coordx'].max() - df['coordx'].min())\n",
        "    df['coordy'] = (df['coordy'] - df['coordy'].min()) / (df['coordy'].max() - df['coordy'].min())\n",
        "    #return df"
      ],
      "metadata": {
        "id": "qBJAlWUy4b4B"
      },
      "execution_count": 15,
      "outputs": []
    },
    {
      "cell_type": "code",
      "source": [
        "def remove_location_rows(df, location_ids):\n",
        "\n",
        "  filtered_df = df[df['PULocationID'].isin(location_coords)]\n",
        "  filtered_df = filtered_df[filtered_df['DOLocationID'].isin(location_coords)]\n",
        "\n",
        "  num_removed = len(df) - len(filtered_df)\n",
        "\n",
        "  print(f\"Number of rows removed: {num_removed}\")\n",
        "  df = filtered_df\n",
        "  return df"
      ],
      "metadata": {
        "id": "JP9ke7warynv"
      },
      "execution_count": 16,
      "outputs": []
    },
    {
      "cell_type": "markdown",
      "metadata": {
        "id": "SuexeglbFBg6"
      },
      "source": [
        "## Time encoding"
      ]
    },
    {
      "cell_type": "code",
      "execution_count": 17,
      "metadata": {
        "id": "JCpTvvYEkqD9",
        "colab": {
          "base_uri": "https://localhost:8080/"
        },
        "outputId": "4ac231b8-4738-4c2b-a496-40591d347409"
      },
      "outputs": [
        {
          "output_type": "stream",
          "name": "stdout",
          "text": [
            "{datetime.date(2023, 1, 1): \"New Year's Day\", datetime.date(2023, 1, 2): \"New Year's Day (observed)\", datetime.date(2023, 5, 29): 'Memorial Day', datetime.date(2023, 6, 19): 'Juneteenth National Independence Day', datetime.date(2023, 7, 4): 'Independence Day', datetime.date(2023, 9, 4): 'Labor Day', datetime.date(2023, 11, 11): 'Veterans Day', datetime.date(2023, 11, 10): 'Veterans Day (observed)', datetime.date(2023, 11, 23): 'Thanksgiving', datetime.date(2023, 12, 25): 'Christmas Day', datetime.date(2023, 1, 16): 'Martin Luther King Jr. Day', datetime.date(2023, 2, 20): \"Washington's Birthday\"}\n"
          ]
        }
      ],
      "source": [
        "# prompt: Write a method that can read a df, pick out the coloum called tpep_pickup_datetime and read the date from this format: 2023-12-31 23:21:58 into format: number of days since year began (int), number of seconds since the day began(int), a variable indicating what day of the week it was, and one variable indicating if it was  a holiday, and which holiday it was\n",
        "# Create a list of dates in 2023\n",
        "dates_2023 = pd.date_range(start='2023-01-01', end='2023-12-31').to_list()\n",
        "# Initialize the US holidays for 2023\n",
        "us_holidays = holidays.US(years=2023)\n",
        "print(us_holidays)"
      ]
    },
    {
      "cell_type": "code",
      "execution_count": 18,
      "metadata": {
        "id": "d__vwjEoG58Y",
        "colab": {
          "base_uri": "https://localhost:8080/"
        },
        "outputId": "ffef177e-f9d3-4531-b0f9-312eb4a6910e"
      },
      "outputs": [
        {
          "output_type": "execute_result",
          "data": {
            "text/plain": [
              "{Timestamp('2023-01-01 00:00:00'): \"New Year's Day\",\n",
              " Timestamp('2023-01-02 00:00:00'): \"New Year's Day (observed)\",\n",
              " Timestamp('2023-01-16 00:00:00'): 'Martin Luther King Jr. Day',\n",
              " Timestamp('2023-02-20 00:00:00'): \"Washington's Birthday\",\n",
              " Timestamp('2023-05-29 00:00:00'): 'Memorial Day',\n",
              " Timestamp('2023-06-19 00:00:00'): 'Juneteenth National Independence Day',\n",
              " Timestamp('2023-07-04 00:00:00'): 'Independence Day',\n",
              " Timestamp('2023-09-04 00:00:00'): 'Labor Day',\n",
              " Timestamp('2023-11-10 00:00:00'): 'Veterans Day (observed)',\n",
              " Timestamp('2023-11-11 00:00:00'): 'Veterans Day',\n",
              " Timestamp('2023-11-23 00:00:00'): 'Thanksgiving',\n",
              " Timestamp('2023-12-25 00:00:00'): 'Christmas Day'}"
            ]
          },
          "metadata": {},
          "execution_count": 18
        }
      ],
      "source": [
        "# Create a dictionary to store holiday information\n",
        "holiday_dict = {}\n",
        "for date in dates_2023:\n",
        "   if date in us_holidays:\n",
        "       holiday_dict[date] = us_holidays.get(date)\n",
        "holiday_dict"
      ]
    },
    {
      "cell_type": "code",
      "execution_count": 19,
      "metadata": {
        "id": "3Z7IkM-HY3od"
      },
      "outputs": [],
      "source": [
        "def process_datetime(df):\n",
        "  # Check if the 'tpep_pickup_datetime' column exists\n",
        "  if 'tpep_pickup_datetime' not in df.columns:\n",
        "    print(\"Error: 'tpep_pickup_datetime' column not found in DataFrame.\")\n",
        "    return df\n",
        "\n",
        "\n",
        "  #Check if the coloumn is in datetime format:\n",
        "  if not pd.api.types.is_datetime64_any_dtype(df['tpep_pickup_datetime']):\n",
        "    print(\"Potential Error: 'tpep_pickup_datetime' column is not in datetime format.\")\n",
        "    df['tpep_pickup_datetime'] = pd.to_datetime(df['tpep_pickup_datetime'])\n",
        "\n",
        "\n",
        "\n",
        "\n",
        "  # Extract year from the datetime column\n",
        "  df['year'] = df['tpep_pickup_datetime'].dt.year\n",
        "\n",
        "\n",
        "  # Calculate the number of days since the year began\n",
        "  df['sine_days_since_year_began'] = np.sin((df['tpep_pickup_datetime'].dt.dayofyear - 1)*2*np.pi/364)\n",
        "  df['cosine_days_since_year_began'] = np.cos((df['tpep_pickup_datetime'].dt.dayofyear - 1)*2*np.pi/364)\n",
        "\n",
        "\n",
        "\n",
        "\n",
        "  # Calculate the number of seconds since the day began\n",
        "  df['sine_seconds_since_day_began'] = np.sin((df['tpep_pickup_datetime'].dt.second + \\\n",
        "                                  df['tpep_pickup_datetime'].dt.minute * 60 + \\\n",
        "                                  df['tpep_pickup_datetime'].dt.hour * 3600)*2*np.pi/86400)\n",
        "  df['cos_seconds_since_day_began'] = np.cos((df['tpep_pickup_datetime'].dt.second + \\\n",
        "                                  df['tpep_pickup_datetime'].dt.minute * 60 + \\\n",
        "                                  df['tpep_pickup_datetime'].dt.hour * 3600)*2*np.pi/86400)\n",
        "\n",
        "\n",
        "  # Get the day of the week (Monday=0, Sunday=6)\n",
        "  df['day_of_week'] = df['tpep_pickup_datetime'].dt.dayofweek\n",
        "\n",
        "\n",
        "  # Initialize US holidays for the year of the data\n",
        "  year = df['tpep_pickup_datetime'].dt.year.iloc[0]  # Get the year from the data\n",
        "  us_holidays = holidays.US(years=year)\n",
        "  holiday_set = set(us_holidays.keys())\n",
        "  # Create holiday columns\n",
        "  current_date = df['tpep_pickup_datetime'].dt.date\n",
        "\n",
        "  df['holiday_today'] = current_date.where(current_date.isin(holiday_set), None).map(lambda x: 1 if x is not None else 0)\n",
        "\n",
        "  df['DateOffset'] = pd.DateOffset(days=1)\n",
        "\n",
        "  df['day_after_holiday'] = current_date - pd.DateOffset(days=1)\n",
        "\n",
        "  df['holiday_yesterday'] =df['day_after_holiday'].apply(lambda date: 1 if date in us_holidays else 0)\n",
        "\n",
        "  df['day_before_holiday'] = current_date + df['DateOffset']\n",
        "\n",
        "  df['holiday_tomorrow'] = df['day_before_holiday'].apply(lambda date: 1 if date in us_holidays else 0)\n",
        "  # lambda if we want the holiday as the input \"lambda date: us_holidays.get(date) if date in us_holidays else None\"\n",
        "\n",
        "  #return df\n"
      ]
    },
    {
      "cell_type": "markdown",
      "source": [
        "## Processing passenger count"
      ],
      "metadata": {
        "id": "krBVY2Kp8W-d"
      }
    },
    {
      "cell_type": "code",
      "source": [
        "def process_passenger_count(df):\n",
        "  median_passenger = df['passenger_count'].median()\n",
        "  df['passenger_count'] = df['passenger_count'].fillna(median_passenger).mask(df['passenger_count'] ==0 , median_passenger)"
      ],
      "metadata": {
        "id": "M8VAWXI78VdB"
      },
      "execution_count": 20,
      "outputs": []
    },
    {
      "cell_type": "markdown",
      "source": [
        "## Preparing data for training"
      ],
      "metadata": {
        "id": "FzqLBd-A5hI3"
      }
    },
    {
      "cell_type": "code",
      "execution_count": 132,
      "metadata": {
        "colab": {
          "base_uri": "https://localhost:8080/"
        },
        "id": "b78rdNtoI1Ti",
        "outputId": "46cff365-e9cb-4126-8be7-251a58b4902f"
      },
      "outputs": [
        {
          "output_type": "stream",
          "name": "stdout",
          "text": [
            "Number of rows removed: 6373\n",
            "40.90010738774882\n",
            "40.52993928435698\n"
          ]
        }
      ],
      "source": [
        "processing_data = pd.DataFrame()\n",
        "for df in df_list:\n",
        "  processing_data = pd.concat([processing_data, df.sample(frac=0.01, random_state=42)])\n",
        "\n",
        "processing_data = remove_location_rows(processing_data, location_coords)\n",
        "process_passenger_count(processing_data)\n",
        "processPickupLocation(processing_data)\n",
        "process_datetime(processing_data)"
      ]
    },
    {
      "cell_type": "code",
      "execution_count": 133,
      "metadata": {
        "id": "kCj2o8A1PPhj"
      },
      "outputs": [],
      "source": [
        "train_df, test_df = train_test_split(processing_data, test_size = 0.2,random_state = 1)"
      ]
    },
    {
      "cell_type": "code",
      "source": [
        "# prompt: print allt the columns of processing_data\n",
        "\n",
        "processing_data.columns"
      ],
      "metadata": {
        "colab": {
          "base_uri": "https://localhost:8080/"
        },
        "id": "OjUWzH0q3VY2",
        "outputId": "7053b857-b267-4312-d7a0-6a3b40c74649"
      },
      "execution_count": 134,
      "outputs": [
        {
          "output_type": "execute_result",
          "data": {
            "text/plain": [
              "Index(['VendorID', 'tpep_pickup_datetime', 'tpep_dropoff_datetime',\n",
              "       'passenger_count', 'trip_distance', 'RatecodeID', 'store_and_fwd_flag',\n",
              "       'PULocationID', 'DOLocationID', 'payment_type', 'fare_amount', 'extra',\n",
              "       'mta_tax', 'tip_amount', 'tolls_amount', 'improvement_surcharge',\n",
              "       'total_amount', 'congestion_surcharge', 'airport_fee', 'Airport_fee',\n",
              "       'coordx', 'coordy', 'year', 'sine_days_since_year_began',\n",
              "       'cosine_days_since_year_began', 'sine_seconds_since_day_began',\n",
              "       'cos_seconds_since_day_began', 'day_of_week', 'holiday_today',\n",
              "       'DateOffset', 'day_after_holiday', 'holiday_yesterday',\n",
              "       'day_before_holiday', 'holiday_tomorrow'],\n",
              "      dtype='object')"
            ]
          },
          "metadata": {},
          "execution_count": 134
        }
      ]
    },
    {
      "cell_type": "code",
      "execution_count": 135,
      "metadata": {
        "id": "6AGD98APpnIz"
      },
      "outputs": [],
      "source": [
        "X_train = train_df[['passenger_count', 'sine_days_since_year_began', 'cosine_days_since_year_began',\n",
        "       'sine_seconds_since_day_began', 'cos_seconds_since_day_began',\n",
        "       'day_of_week', 'holiday_today',\n",
        "       'holiday_yesterday', 'holiday_tomorrow', 'coordx', 'coordy']]\n",
        "y_train = train_df['DOLocationID']\n",
        "X_test = test_df[['passenger_count', 'sine_days_since_year_began', 'cosine_days_since_year_began',\n",
        "       'sine_seconds_since_day_began', 'cos_seconds_since_day_began',\n",
        "       'day_of_week', 'holiday_today',\n",
        "       'holiday_yesterday', 'holiday_tomorrow',  'coordx', 'coordy']]\n",
        "y_test = test_df['DOLocationID']"
      ]
    },
    {
      "cell_type": "code",
      "source": [
        "print(len(y_train.unique()))\n",
        "print(len(y_test.unique()))"
      ],
      "metadata": {
        "colab": {
          "base_uri": "https://localhost:8080/"
        },
        "id": "20dEA51lyK53",
        "outputId": "4beab397-c626-49c2-9198-23f84a55bd0d"
      },
      "execution_count": 136,
      "outputs": [
        {
          "output_type": "stream",
          "name": "stdout",
          "text": [
            "255\n",
            "245\n"
          ]
        }
      ]
    },
    {
      "cell_type": "code",
      "source": [
        "def print_values(df):\n",
        "  \"\"\"Prints the average value of all numerical columns in a DataFrame.\n",
        "\n",
        "  Args:\n",
        "    df: The pandas DataFrame.\n",
        "  \"\"\"\n",
        "  numerical_cols = df.select_dtypes(include=np.number).columns  # Select numerical columns\n",
        "  for col in numerical_cols:\n",
        "    avg_value = df[col].mean()\n",
        "    min_value = df[col].min()\n",
        "    max_value = df[col].max()\n",
        "    print(f\"column{col} has average: {avg_value}, minimum: {min_value} and maximum: {max_value}\")\n",
        "\n",
        "print(print_values(X_train))"
      ],
      "metadata": {
        "colab": {
          "base_uri": "https://localhost:8080/"
        },
        "id": "COf31AcQ1WJ0",
        "outputId": "ed0eceee-c8e1-4cc0-dc91-27e92ca9ceb3"
      },
      "execution_count": 137,
      "outputs": [
        {
          "output_type": "stream",
          "name": "stdout",
          "text": [
            "columnpassenger_count has average: 1.3723534505927673, minimum: 1.0 and maximum: 8.0\n",
            "columnsine_days_since_year_began has average: 0.01564389016973991, minimum: -1.0 and maximum: 1.0\n",
            "columncosine_days_since_year_began has average: 0.01635020408959669, minimum: -1.0 and maximum: 1.0\n",
            "columnsine_seconds_since_day_began has average: -0.3166152467518178, minimum: -1.0 and maximum: 1.0\n",
            "columncos_seconds_since_day_began has average: -0.12007065581783867, minimum: -1.0 and maximum: 1.0\n",
            "columnday_of_week has average: 3.000471161279833, minimum: 0 and maximum: 6\n",
            "columnholiday_today has average: 0.025190538285172023, minimum: 0 and maximum: 1\n",
            "columnholiday_yesterday has average: 0.02967320651795224, minimum: 0 and maximum: 1\n",
            "columnholiday_tomorrow has average: 0.0281203651168115, minimum: 0 and maximum: 1\n",
            "columncoordx has average: 0.5211294701705936, minimum: 0.0 and maximum: 1.0\n",
            "columncoordy has average: 0.5946974866105916, minimum: 0.0 and maximum: 1.0\n",
            "None\n"
          ]
        }
      ]
    },
    {
      "cell_type": "markdown",
      "source": [
        "## Milestone 3 model"
      ],
      "metadata": {
        "id": "zIuFCs7iKvJW"
      }
    },
    {
      "cell_type": "code",
      "source": [
        "# prompt: one hot encode y_test to create a y_test_encoded\n",
        "\n",
        "enc = OneHotEncoder(handle_unknown='ignore')\n",
        "enc.fit(y_train.values.reshape(-1, 1))\n",
        "y_test_encoded = enc.transform(y_test.values.reshape(-1, 1)).toarray()\n",
        "y_train_encoded = enc.transform(y_train.values.reshape(-1, 1)).toarray()"
      ],
      "metadata": {
        "id": "KhMGK5jHGcKu"
      },
      "execution_count": 166,
      "outputs": []
    },
    {
      "cell_type": "code",
      "source": [
        "# prompt: write a multinomial logistic regression to predict a one hot encoded y predictor\n",
        "\n",
        "# Initialize and train the multinomial logistic regression model\n",
        "model = LogisticRegression(multi_class='multinomial', solver='lbfgs', max_iter=500) # Increased max_iter\n",
        "model.fit(X_train, y_train)\n",
        "\n",
        "\n",
        "# Make predictions on the test set\n",
        "y_pred = model.predict(X_test)\n",
        "\n",
        "accuracy = accuracy_score(y_test, y_pred)\n",
        "print(f\"Accuracy: {accuracy}\")"
      ],
      "metadata": {
        "colab": {
          "base_uri": "https://localhost:8080/"
        },
        "id": "MZFCQVLF9ke5",
        "outputId": "222cb810-63d6-44d6-eb99-9bda2b52192c"
      },
      "execution_count": 196,
      "outputs": [
        {
          "output_type": "stream",
          "name": "stderr",
          "text": [
            "/usr/local/lib/python3.10/dist-packages/sklearn/linear_model/_logistic.py:1247: FutureWarning: 'multi_class' was deprecated in version 1.5 and will be removed in 1.7. From then on, it will always use 'multinomial'. Leave it to its default value to avoid this warning.\n",
            "  warnings.warn(\n"
          ]
        },
        {
          "output_type": "stream",
          "name": "stdout",
          "text": [
            "Accuracy: 0.05350504514073287\n"
          ]
        },
        {
          "output_type": "stream",
          "name": "stderr",
          "text": [
            "/usr/local/lib/python3.10/dist-packages/sklearn/linear_model/_logistic.py:469: ConvergenceWarning: lbfgs failed to converge (status=1):\n",
            "STOP: TOTAL NO. of ITERATIONS REACHED LIMIT.\n",
            "\n",
            "Increase the number of iterations (max_iter) or scale the data as shown in:\n",
            "    https://scikit-learn.org/stable/modules/preprocessing.html\n",
            "Please also refer to the documentation for alternative solver options:\n",
            "    https://scikit-learn.org/stable/modules/linear_model.html#logistic-regression\n",
            "  n_iter_i = _check_optimize_result(\n"
          ]
        }
      ]
    },
    {
      "cell_type": "markdown",
      "source": [
        "### Test accuracy"
      ],
      "metadata": {
        "id": "CmZZgJZ3Mec8"
      }
    },
    {
      "cell_type": "code",
      "source": [
        "probabilities = model.predict_proba(X_test)\n",
        "top_5_indices = np.argsort(probabilities, axis=1)[:, -5:]\n",
        "is_correct = np.zeros(len(y_test.values), dtype=bool)\n",
        "for i in range(len(y_test.values)):\n",
        "  is_correct[i] = np.isin(y_test.values[i], top_5_indices[i])\n",
        "accuracy = np.mean(is_correct)\n",
        "print(f\"Top-5 Accuracy: {accuracy}\")\n",
        "\n",
        "\n"
      ],
      "metadata": {
        "colab": {
          "base_uri": "https://localhost:8080/"
        },
        "id": "RS3fgB6NC-93",
        "outputId": "62528b2d-8086-473f-8501-eb5b25cb100d"
      },
      "execution_count": 197,
      "outputs": [
        {
          "output_type": "stream",
          "name": "stdout",
          "text": [
            "Top-5 Accuracy: 0.01964949548592671\n"
          ]
        }
      ]
    },
    {
      "cell_type": "markdown",
      "source": [
        "### Train Accuracy"
      ],
      "metadata": {
        "id": "6PHB-i1yMi7L"
      }
    },
    {
      "cell_type": "code",
      "source": [
        "probabilities = model.predict_proba(X_train)\n",
        "top_5_indices = np.argsort(probabilities, axis=1)[:, -5:]\n",
        "is_correct = np.zeros(len(y_train.values), dtype=bool)\n",
        "for i in range(len(y_train.values)):\n",
        "  is_correct[i] = np.isin(y_train.values[i], top_5_indices[i])\n",
        "accuracy = np.mean(is_correct)\n",
        "print(f\"Top-5 Accuracy: {accuracy}\")\n",
        "\n"
      ],
      "metadata": {
        "colab": {
          "base_uri": "https://localhost:8080/"
        },
        "id": "NHFPwJ8gEYfD",
        "outputId": "51c63b23-d6e0-4939-a3b5-35b782273243"
      },
      "execution_count": 201,
      "outputs": [
        {
          "output_type": "stream",
          "name": "stdout",
          "text": [
            "Top-5 Accuracy: 0.005011949017525226\n"
          ]
        }
      ]
    },
    {
      "cell_type": "markdown",
      "source": [
        "### Plotting"
      ],
      "metadata": {
        "id": "nA0a4XjgMnT6"
      }
    },
    {
      "cell_type": "code",
      "source": [
        "%%capture\n",
        "iters = [5, 10, 50, 100, 500]\n",
        "MSEs = []\n",
        "train_MSEs = []\n",
        "for iter in iters:\n",
        "  # Initialize and train the multinomial logistic regression model\n",
        "  short_trained_model = LogisticRegression(multi_class='multinomial', solver='lbfgs', max_iter=iter) # Increased max_iter\n",
        "  short_trained_model.fit(X_train, y_train)\n",
        "\n",
        "\n",
        "  # Make predictions on the test set\n",
        "  y_pred = short_trained_model.predict(X_test)\n",
        "\n",
        "  mse = np.mean(np.sum((y_test_encoded - short_trained_model.predict_proba(X_test))**2, axis=1))\n",
        "\n",
        "  MSEs.append(mse)\n",
        "  train_mse = np.mean(np.sum((y_train_encoded - short_trained_model.predict_proba(X_train))**2, axis=1))\n",
        "  train_MSEs.append(train_mse)\n"
      ],
      "metadata": {
        "id": "wriM_3wfErQv"
      },
      "execution_count": null,
      "outputs": []
    },
    {
      "cell_type": "code",
      "source": [
        "plt.plot(iters, MSEs)\n",
        "plt.plot(iters, train_MSEs)\n",
        "plt.xlabel('Number of Iterations')\n",
        "plt.ylabel('MSE')\n",
        "plt.title('MSE vs. Number of Iterations')\n",
        "plt.legend(['Test MSE', 'Train MSE'])\n",
        "plt.show()"
      ],
      "metadata": {
        "colab": {
          "base_uri": "https://localhost:8080/",
          "height": 472
        },
        "id": "bPDQjcM3FLko",
        "outputId": "5d31ac80-c503-466f-98f5-387859e06744"
      },
      "execution_count": null,
      "outputs": [
        {
          "output_type": "display_data",
          "data": {
            "text/plain": [
              "<Figure size 640x480 with 1 Axes>"
            ],
            "image/png": "[encoded data removed]"
          },
          "metadata": {}
        }
      ]
    },
    {
      "cell_type": "markdown",
      "source": [
        "## Milestone 4 model"
      ],
      "metadata": {
        "id": "6v42LKFPKyUs"
      }
    },
    {
      "cell_type": "code",
      "source": [
        "model = MLPClassifier(hidden_layer_sizes=(400,10), max_iter=100, random_state=42, solver = 'adam', validation_fraction=0.2)\n",
        "model.fit(X_train, y_train)"
      ],
      "metadata": {
        "colab": {
          "base_uri": "https://localhost:8080/",
          "height": 152
        },
        "id": "VF1x8bKEHszB",
        "outputId": "ab246b9b-00b0-4b2e-d262-2d9cca30ab91"
      },
      "execution_count": 85,
      "outputs": [
        {
          "output_type": "stream",
          "name": "stderr",
          "text": [
            "/usr/local/lib/python3.10/dist-packages/sklearn/neural_network/_multilayer_perceptron.py:690: ConvergenceWarning: Stochastic Optimizer: Maximum iterations (100) reached and the optimization hasn't converged yet.\n",
            "  warnings.warn(\n"
          ]
        },
        {
          "output_type": "execute_result",
          "data": {
            "text/plain": [
              "MLPClassifier(hidden_layer_sizes=(400, 10), max_iter=100, random_state=42,\n",
              "              validation_fraction=0.2)"
            ],
            "text/html": [
              "<style>#sk-container-id-5 {\n",
              "  /* Definition of color scheme common for light and dark mode */\n",
              "  --sklearn-color-text: black;\n",
              "  --sklearn-color-line: gray;\n",
              "  /* Definition of color scheme for unfitted estimators */\n",
              "  --sklearn-color-unfitted-level-0: #fff5e6;\n",
              "  --sklearn-color-unfitted-level-1: #f6e4d2;\n",
              "  --sklearn-color-unfitted-level-2: #ffe0b3;\n",
              "  --sklearn-color-unfitted-level-3: chocolate;\n",
              "  /* Definition of color scheme for fitted estimators */\n",
              "  --sklearn-color-fitted-level-0: #f0f8ff;\n",
              "  --sklearn-color-fitted-level-1: #d4ebff;\n",
              "  --sklearn-color-fitted-level-2: #b3dbfd;\n",
              "  --sklearn-color-fitted-level-3: cornflowerblue;\n",
              "\n",
              "  /* Specific color for light theme */\n",
              "  --sklearn-color-text-on-default-background: var(--sg-text-color, var(--theme-code-foreground, var(--jp-content-font-color1, black)));\n",
              "  --sklearn-color-background: var(--sg-background-color, var(--theme-background, var(--jp-layout-color0, white)));\n",
              "  --sklearn-color-border-box: var(--sg-text-color, var(--theme-code-foreground, var(--jp-content-font-color1, black)));\n",
              "  --sklearn-color-icon: #696969;\n",
              "\n",
              "  @media (prefers-color-scheme: dark) {\n",
              "    /* Redefinition of color scheme for dark theme */\n",
              "    --sklearn-color-text-on-default-background: var(--sg-text-color, var(--theme-code-foreground, var(--jp-content-font-color1, white)));\n",
              "    --sklearn-color-background: var(--sg-background-color, var(--theme-background, var(--jp-layout-color0, #111)));\n",
              "    --sklearn-color-border-box: var(--sg-text-color, var(--theme-code-foreground, var(--jp-content-font-color1, white)));\n",
              "    --sklearn-color-icon: #878787;\n",
              "  }\n",
              "}\n",
              "\n",
              "#sk-container-id-5 {\n",
              "  color: var(--sklearn-color-text);\n",
              "}\n",
              "\n",
              "#sk-container-id-5 pre {\n",
              "  padding: 0;\n",
              "}\n",
              "\n",
              "#sk-container-id-5 input.sk-hidden--visually {\n",
              "  border: 0;\n",
              "  clip: rect(1px 1px 1px 1px);\n",
              "  clip: rect(1px, 1px, 1px, 1px);\n",
              "  height: 1px;\n",
              "  margin: -1px;\n",
              "  overflow: hidden;\n",
              "  padding: 0;\n",
              "  position: absolute;\n",
              "  width: 1px;\n",
              "}\n",
              "\n",
              "#sk-container-id-5 div.sk-dashed-wrapped {\n",
              "  border: 1px dashed var(--sklearn-color-line);\n",
              "  margin: 0 0.4em 0.5em 0.4em;\n",
              "  box-sizing: border-box;\n",
              "  padding-bottom: 0.4em;\n",
              "  background-color: var(--sklearn-color-background);\n",
              "}\n",
              "\n",
              "#sk-container-id-5 div.sk-container {\n",
              "  /* jupyter's `normalize.less` sets `[hidden] { display: none; }`\n",
              "     but bootstrap.min.css set `[hidden] { display: none !important; }`\n",
              "     so we also need the `!important` here to be able to override the\n",
              "     default hidden behavior on the sphinx rendered scikit-learn.org.\n",
              "     See: https://github.com/scikit-learn/scikit-learn/issues/21755 */\n",
              "  display: inline-block !important;\n",
              "  position: relative;\n",
              "}\n",
              "\n",
              "#sk-container-id-5 div.sk-text-repr-fallback {\n",
              "  display: none;\n",
              "}\n",
              "\n",
              "div.sk-parallel-item,\n",
              "div.sk-serial,\n",
              "div.sk-item {\n",
              "  /* draw centered vertical line to link estimators */\n",
              "  background-image: linear-gradient(var(--sklearn-color-text-on-default-background), var(--sklearn-color-text-on-default-background));\n",
              "  background-size: 2px 100%;\n",
              "  background-repeat: no-repeat;\n",
              "  background-position: center center;\n",
              "}\n",
              "\n",
              "/* Parallel-specific style estimator block */\n",
              "\n",
              "#sk-container-id-5 div.sk-parallel-item::after {\n",
              "  content: \"\";\n",
              "  width: 100%;\n",
              "  border-bottom: 2px solid var(--sklearn-color-text-on-default-background);\n",
              "  flex-grow: 1;\n",
              "}\n",
              "\n",
              "#sk-container-id-5 div.sk-parallel {\n",
              "  display: flex;\n",
              "  align-items: stretch;\n",
              "  justify-content: center;\n",
              "  background-color: var(--sklearn-color-background);\n",
              "  position: relative;\n",
              "}\n",
              "\n",
              "#sk-container-id-5 div.sk-parallel-item {\n",
              "  display: flex;\n",
              "  flex-direction: column;\n",
              "}\n",
              "\n",
              "#sk-container-id-5 div.sk-parallel-item:first-child::after {\n",
              "  align-self: flex-end;\n",
              "  width: 50%;\n",
              "}\n",
              "\n",
              "#sk-container-id-5 div.sk-parallel-item:last-child::after {\n",
              "  align-self: flex-start;\n",
              "  width: 50%;\n",
              "}\n",
              "\n",
              "#sk-container-id-5 div.sk-parallel-item:only-child::after {\n",
              "  width: 0;\n",
              "}\n",
              "\n",
              "/* Serial-specific style estimator block */\n",
              "\n",
              "#sk-container-id-5 div.sk-serial {\n",
              "  display: flex;\n",
              "  flex-direction: column;\n",
              "  align-items: center;\n",
              "  background-color: var(--sklearn-color-background);\n",
              "  padding-right: 1em;\n",
              "  padding-left: 1em;\n",
              "}\n",
              "\n",
              "\n",
              "/* Toggleable style: style used for estimator/Pipeline/ColumnTransformer box that is\n",
              "clickable and can be expanded/collapsed.\n",
              "- Pipeline and ColumnTransformer use this feature and define the default style\n",
              "- Estimators will overwrite some part of the style using the `sk-estimator` class\n",
              "*/\n",
              "\n",
              "/* Pipeline and ColumnTransformer style (default) */\n",
              "\n",
              "#sk-container-id-5 div.sk-toggleable {\n",
              "  /* Default theme specific background. It is overwritten whether we have a\n",
              "  specific estimator or a Pipeline/ColumnTransformer */\n",
              "  background-color: var(--sklearn-color-background);\n",
              "}\n",
              "\n",
              "/* Toggleable label */\n",
              "#sk-container-id-5 label.sk-toggleable__label {\n",
              "  cursor: pointer;\n",
              "  display: block;\n",
              "  width: 100%;\n",
              "  margin-bottom: 0;\n",
              "  padding: 0.5em;\n",
              "  box-sizing: border-box;\n",
              "  text-align: center;\n",
              "}\n",
              "\n",
              "#sk-container-id-5 label.sk-toggleable__label-arrow:before {\n",
              "  /* Arrow on the left of the label */\n",
              "  content: \"▸\";\n",
              "  float: left;\n",
              "  margin-right: 0.25em;\n",
              "  color: var(--sklearn-color-icon);\n",
              "}\n",
              "\n",
              "#sk-container-id-5 label.sk-toggleable__label-arrow:hover:before {\n",
              "  color: var(--sklearn-color-text);\n",
              "}\n",
              "\n",
              "/* Toggleable content - dropdown */\n",
              "\n",
              "#sk-container-id-5 div.sk-toggleable__content {\n",
              "  max-height: 0;\n",
              "  max-width: 0;\n",
              "  overflow: hidden;\n",
              "  text-align: left;\n",
              "  /* unfitted */\n",
              "  background-color: var(--sklearn-color-unfitted-level-0);\n",
              "}\n",
              "\n",
              "#sk-container-id-5 div.sk-toggleable__content.fitted {\n",
              "  /* fitted */\n",
              "  background-color: var(--sklearn-color-fitted-level-0);\n",
              "}\n",
              "\n",
              "#sk-container-id-5 div.sk-toggleable__content pre {\n",
              "  margin: 0.2em;\n",
              "  border-radius: 0.25em;\n",
              "  color: var(--sklearn-color-text);\n",
              "  /* unfitted */\n",
              "  background-color: var(--sklearn-color-unfitted-level-0);\n",
              "}\n",
              "\n",
              "#sk-container-id-5 div.sk-toggleable__content.fitted pre {\n",
              "  /* unfitted */\n",
              "  background-color: var(--sklearn-color-fitted-level-0);\n",
              "}\n",
              "\n",
              "#sk-container-id-5 input.sk-toggleable__control:checked~div.sk-toggleable__content {\n",
              "  /* Expand drop-down */\n",
              "  max-height: 200px;\n",
              "  max-width: 100%;\n",
              "  overflow: auto;\n",
              "}\n",
              "\n",
              "#sk-container-id-5 input.sk-toggleable__control:checked~label.sk-toggleable__label-arrow:before {\n",
              "  content: \"▾\";\n",
              "}\n",
              "\n",
              "/* Pipeline/ColumnTransformer-specific style */\n",
              "\n",
              "#sk-container-id-5 div.sk-label input.sk-toggleable__control:checked~label.sk-toggleable__label {\n",
              "  color: var(--sklearn-color-text);\n",
              "  background-color: var(--sklearn-color-unfitted-level-2);\n",
              "}\n",
              "\n",
              "#sk-container-id-5 div.sk-label.fitted input.sk-toggleable__control:checked~label.sk-toggleable__label {\n",
              "  background-color: var(--sklearn-color-fitted-level-2);\n",
              "}\n",
              "\n",
              "/* Estimator-specific style */\n",
              "\n",
              "/* Colorize estimator box */\n",
              "#sk-container-id-5 div.sk-estimator input.sk-toggleable__control:checked~label.sk-toggleable__label {\n",
              "  /* unfitted */\n",
              "  background-color: var(--sklearn-color-unfitted-level-2);\n",
              "}\n",
              "\n",
              "#sk-container-id-5 div.sk-estimator.fitted input.sk-toggleable__control:checked~label.sk-toggleable__label {\n",
              "  /* fitted */\n",
              "  background-color: var(--sklearn-color-fitted-level-2);\n",
              "}\n",
              "\n",
              "#sk-container-id-5 div.sk-label label.sk-toggleable__label,\n",
              "#sk-container-id-5 div.sk-label label {\n",
              "  /* The background is the default theme color */\n",
              "  color: var(--sklearn-color-text-on-default-background);\n",
              "}\n",
              "\n",
              "/* On hover, darken the color of the background */\n",
              "#sk-container-id-5 div.sk-label:hover label.sk-toggleable__label {\n",
              "  color: var(--sklearn-color-text);\n",
              "  background-color: var(--sklearn-color-unfitted-level-2);\n",
              "}\n",
              "\n",
              "/* Label box, darken color on hover, fitted */\n",
              "#sk-container-id-5 div.sk-label.fitted:hover label.sk-toggleable__label.fitted {\n",
              "  color: var(--sklearn-color-text);\n",
              "  background-color: var(--sklearn-color-fitted-level-2);\n",
              "}\n",
              "\n",
              "/* Estimator label */\n",
              "\n",
              "#sk-container-id-5 div.sk-label label {\n",
              "  font-family: monospace;\n",
              "  font-weight: bold;\n",
              "  display: inline-block;\n",
              "  line-height: 1.2em;\n",
              "}\n",
              "\n",
              "#sk-container-id-5 div.sk-label-container {\n",
              "  text-align: center;\n",
              "}\n",
              "\n",
              "/* Estimator-specific */\n",
              "#sk-container-id-5 div.sk-estimator {\n",
              "  font-family: monospace;\n",
              "  border: 1px dotted var(--sklearn-color-border-box);\n",
              "  border-radius: 0.25em;\n",
              "  box-sizing: border-box;\n",
              "  margin-bottom: 0.5em;\n",
              "  /* unfitted */\n",
              "  background-color: var(--sklearn-color-unfitted-level-0);\n",
              "}\n",
              "\n",
              "#sk-container-id-5 div.sk-estimator.fitted {\n",
              "  /* fitted */\n",
              "  background-color: var(--sklearn-color-fitted-level-0);\n",
              "}\n",
              "\n",
              "/* on hover */\n",
              "#sk-container-id-5 div.sk-estimator:hover {\n",
              "  /* unfitted */\n",
              "  background-color: var(--sklearn-color-unfitted-level-2);\n",
              "}\n",
              "\n",
              "#sk-container-id-5 div.sk-estimator.fitted:hover {\n",
              "  /* fitted */\n",
              "  background-color: var(--sklearn-color-fitted-level-2);\n",
              "}\n",
              "\n",
              "/* Specification for estimator info (e.g. \"i\" and \"?\") */\n",
              "\n",
              "/* Common style for \"i\" and \"?\" */\n",
              "\n",
              ".sk-estimator-doc-link,\n",
              "a:link.sk-estimator-doc-link,\n",
              "a:visited.sk-estimator-doc-link {\n",
              "  float: right;\n",
              "  font-size: smaller;\n",
              "  line-height: 1em;\n",
              "  font-family: monospace;\n",
              "  background-color: var(--sklearn-color-background);\n",
              "  border-radius: 1em;\n",
              "  height: 1em;\n",
              "  width: 1em;\n",
              "  text-decoration: none !important;\n",
              "  margin-left: 1ex;\n",
              "  /* unfitted */\n",
              "  border: var(--sklearn-color-unfitted-level-1) 1pt solid;\n",
              "  color: var(--sklearn-color-unfitted-level-1);\n",
              "}\n",
              "\n",
              ".sk-estimator-doc-link.fitted,\n",
              "a:link.sk-estimator-doc-link.fitted,\n",
              "a:visited.sk-estimator-doc-link.fitted {\n",
              "  /* fitted */\n",
              "  border: var(--sklearn-color-fitted-level-1) 1pt solid;\n",
              "  color: var(--sklearn-color-fitted-level-1);\n",
              "}\n",
              "\n",
              "/* On hover */\n",
              "div.sk-estimator:hover .sk-estimator-doc-link:hover,\n",
              ".sk-estimator-doc-link:hover,\n",
              "div.sk-label-container:hover .sk-estimator-doc-link:hover,\n",
              ".sk-estimator-doc-link:hover {\n",
              "  /* unfitted */\n",
              "  background-color: var(--sklearn-color-unfitted-level-3);\n",
              "  color: var(--sklearn-color-background);\n",
              "  text-decoration: none;\n",
              "}\n",
              "\n",
              "div.sk-estimator.fitted:hover .sk-estimator-doc-link.fitted:hover,\n",
              ".sk-estimator-doc-link.fitted:hover,\n",
              "div.sk-label-container:hover .sk-estimator-doc-link.fitted:hover,\n",
              ".sk-estimator-doc-link.fitted:hover {\n",
              "  /* fitted */\n",
              "  background-color: var(--sklearn-color-fitted-level-3);\n",
              "  color: var(--sklearn-color-background);\n",
              "  text-decoration: none;\n",
              "}\n",
              "\n",
              "/* Span, style for the box shown on hovering the info icon */\n",
              ".sk-estimator-doc-link span {\n",
              "  display: none;\n",
              "  z-index: 9999;\n",
              "  position: relative;\n",
              "  font-weight: normal;\n",
              "  right: .2ex;\n",
              "  padding: .5ex;\n",
              "  margin: .5ex;\n",
              "  width: min-content;\n",
              "  min-width: 20ex;\n",
              "  max-width: 50ex;\n",
              "  color: var(--sklearn-color-text);\n",
              "  box-shadow: 2pt 2pt 4pt #999;\n",
              "  /* unfitted */\n",
              "  background: var(--sklearn-color-unfitted-level-0);\n",
              "  border: .5pt solid var(--sklearn-color-unfitted-level-3);\n",
              "}\n",
              "\n",
              ".sk-estimator-doc-link.fitted span {\n",
              "  /* fitted */\n",
              "  background: var(--sklearn-color-fitted-level-0);\n",
              "  border: var(--sklearn-color-fitted-level-3);\n",
              "}\n",
              "\n",
              ".sk-estimator-doc-link:hover span {\n",
              "  display: block;\n",
              "}\n",
              "\n",
              "/* \"?\"-specific style due to the `<a>` HTML tag */\n",
              "\n",
              "#sk-container-id-5 a.estimator_doc_link {\n",
              "  float: right;\n",
              "  font-size: 1rem;\n",
              "  line-height: 1em;\n",
              "  font-family: monospace;\n",
              "  background-color: var(--sklearn-color-background);\n",
              "  border-radius: 1rem;\n",
              "  height: 1rem;\n",
              "  width: 1rem;\n",
              "  text-decoration: none;\n",
              "  /* unfitted */\n",
              "  color: var(--sklearn-color-unfitted-level-1);\n",
              "  border: var(--sklearn-color-unfitted-level-1) 1pt solid;\n",
              "}\n",
              "\n",
              "#sk-container-id-5 a.estimator_doc_link.fitted {\n",
              "  /* fitted */\n",
              "  border: var(--sklearn-color-fitted-level-1) 1pt solid;\n",
              "  color: var(--sklearn-color-fitted-level-1);\n",
              "}\n",
              "\n",
              "/* On hover */\n",
              "#sk-container-id-5 a.estimator_doc_link:hover {\n",
              "  /* unfitted */\n",
              "  background-color: var(--sklearn-color-unfitted-level-3);\n",
              "  color: var(--sklearn-color-background);\n",
              "  text-decoration: none;\n",
              "}\n",
              "\n",
              "#sk-container-id-5 a.estimator_doc_link.fitted:hover {\n",
              "  /* fitted */\n",
              "  background-color: var(--sklearn-color-fitted-level-3);\n",
              "}\n",
              "</style><div id=\"sk-container-id-5\" class=\"sk-top-container\"><div class=\"sk-text-repr-fallback\"><pre>MLPClassifier(hidden_layer_sizes=(400, 10), max_iter=100, random_state=42,\n",
              "              validation_fraction=0.2)</pre><b>In a Jupyter environment, please rerun this cell to show the HTML representation or trust the notebook. <br />On GitHub, the HTML representation is unable to render, please try loading this page with nbviewer.org.</b></div><div class=\"sk-container\" hidden><div class=\"sk-item\"><div class=\"sk-estimator fitted sk-toggleable\"><input class=\"sk-toggleable__control sk-hidden--visually\" id=\"sk-estimator-id-5\" type=\"checkbox\" checked><label for=\"sk-estimator-id-5\" class=\"sk-toggleable__label fitted sk-toggleable__label-arrow fitted\">&nbsp;&nbsp;MLPClassifier<a class=\"sk-estimator-doc-link fitted\" rel=\"noreferrer\" target=\"_blank\" href=\"https://scikit-learn.org/1.5/modules/generated/sklearn.neural_network.MLPClassifier.html\">?<span>Documentation for MLPClassifier</span></a><span class=\"sk-estimator-doc-link fitted\">i<span>Fitted</span></span></label><div class=\"sk-toggleable__content fitted\"><pre>MLPClassifier(hidden_layer_sizes=(400, 10), max_iter=100, random_state=42,\n",
              "              validation_fraction=0.2)</pre></div> </div></div></div></div>"
            ]
          },
          "metadata": {},
          "execution_count": 85
        }
      ]
    },
    {
      "cell_type": "code",
      "source": [
        "plt.plot(model.loss_curve_)\n",
        "plt.xlabel('Epoch')\n",
        "plt.ylabel('Loss')"
      ],
      "metadata": {
        "colab": {
          "base_uri": "https://localhost:8080/",
          "height": 471
        },
        "id": "NMEpqKG14dKo",
        "outputId": "ca2159ce-4176-441e-b2f0-2149ae4caf89"
      },
      "execution_count": 86,
      "outputs": [
        {
          "output_type": "execute_result",
          "data": {
            "text/plain": [
              "Text(0, 0.5, 'Loss')"
            ]
          },
          "metadata": {},
          "execution_count": 86
        },
        {
          "output_type": "display_data",
          "data": {
            "text/plain": [
              "<Figure size 640x480 with 1 Axes>"
            ],
            "image/png": "[encoded data removed]"
          },
          "metadata": {}
        }
      ]
    },
    {
      "cell_type": "markdown",
      "source": [
        "### Accuracy of first guess"
      ],
      "metadata": {
        "id": "-qJ3Mzcawadl"
      }
    },
    {
      "cell_type": "code",
      "source": [
        "y_pred = model.predict(X_test)\n",
        "print(f\"Accuracy: {accuracy_score(y_test, y_pred)}\")"
      ],
      "metadata": {
        "colab": {
          "base_uri": "https://localhost:8080/"
        },
        "id": "TYivCxRlK5oW",
        "outputId": "64d3755b-e9dd-4da7-d13c-eb3cfc67fa4c"
      },
      "execution_count": 87,
      "outputs": [
        {
          "output_type": "stream",
          "name": "stdout",
          "text": [
            "Accuracy: 0.06585236325013277\n"
          ]
        }
      ]
    },
    {
      "cell_type": "markdown",
      "source": [
        "### Testing accuracy"
      ],
      "metadata": {
        "id": "2v3JsJWdqqFv"
      }
    },
    {
      "cell_type": "code",
      "source": [
        "probabilities = model.predict_proba(X_test)\n",
        "top_5_indices = model.classes_[np.argsort(probabilities, axis=1)[:, -5:]]\n",
        "is_correct = np.zeros(len(y_test.values), dtype=bool)\n",
        "for i in range(len(y_test.values)):\n",
        "  is_correct[i] = np.isin(y_test.values[i], top_5_indices[i])\n",
        "accuracy = np.mean(is_correct)\n",
        "print(f\"Top-5 Accuracy: {accuracy}\")\n",
        "\n"
      ],
      "metadata": {
        "colab": {
          "base_uri": "https://localhost:8080/"
        },
        "id": "kVGi-VBRHyL6",
        "outputId": "1e8ec746-143d-440a-def5-6a9a8a08f44b"
      },
      "execution_count": 88,
      "outputs": [
        {
          "output_type": "stream",
          "name": "stdout",
          "text": [
            "Top-5 Accuracy: 0.2591609134360064\n"
          ]
        }
      ]
    },
    {
      "cell_type": "markdown",
      "source": [
        "### Training accuracy"
      ],
      "metadata": {
        "id": "YklqkI1xqsXh"
      }
    },
    {
      "cell_type": "code",
      "source": [
        "probabilities = model.predict_proba(X_train)\n",
        "top_5_indices = model.classes_[np.argsort(probabilities, axis=1)[:, -5:]]\n",
        "is_correct = np.zeros(len(y_train.values), dtype=bool)\n",
        "for i in range(len(y_train.values)):\n",
        "  is_correct[i] = np.isin(y_train.values[i], top_5_indices[i])\n",
        "accuracy = np.mean(is_correct)\n",
        "print(f\"Top-5 Accuracy: {accuracy}\")\n",
        "\n"
      ],
      "metadata": {
        "colab": {
          "base_uri": "https://localhost:8080/"
        },
        "id": "RXbkHYiDqips",
        "outputId": "61dfcf87-dc10-499a-a7a4-f665dd6a553f"
      },
      "execution_count": 82,
      "outputs": [
        {
          "output_type": "stream",
          "name": "stdout",
          "text": [
            "Top-5 Accuracy: 0.2597915560276155\n"
          ]
        }
      ]
    },
    {
      "cell_type": "markdown",
      "source": [
        "## Milestone 4 Pytorch model"
      ],
      "metadata": {
        "id": "H7WDF95wFE2s"
      }
    },
    {
      "cell_type": "code",
      "source": [
        "num_labels = max(train_df['DOLocationID'].max(), test_df['DOLocationID'].max())+1\n"
      ],
      "metadata": {
        "id": "f2NZe8Mr6L6T"
      },
      "execution_count": 138,
      "outputs": []
    },
    {
      "cell_type": "code",
      "source": [
        "# Check if GPU is available and set device\n",
        "device = torch.device(\"cuda\" if torch.cuda.is_available() else \"cpu\")\n",
        "print(f\"Using device: {device}\")\n",
        "\n",
        "# Define your custom dataset\n",
        "class TaxiDataset(Dataset):\n",
        "    def __init__(self, X, y):\n",
        "        self.X = torch.tensor(X.values, dtype=torch.float32).to(device)\n",
        "        self.y = torch.tensor(y.values, dtype=torch.long).to(device)\n",
        "\n",
        "    def __len__(self):\n",
        "        return len(self.X)\n",
        "\n",
        "    def __getitem__(self, idx):\n",
        "        return self.X[idx], self.y[idx]\n",
        "\n",
        "# Define the MLP model with tunable depth\n",
        "class MLP(nn.Module):\n",
        "    def __init__(self, input_size, hidden_size, output_size, num_hidden_layers=1):\n",
        "        super(MLP, self).__init__()\n",
        "        self.layers = nn.ModuleList()\n",
        "\n",
        "        # Input layer\n",
        "        self.layers.append(nn.Linear(input_size, hidden_size))\n",
        "        self.layers.append(nn.ReLU())\n",
        "\n",
        "        # Hidden layers\n",
        "        for _ in range(num_hidden_layers - 1): # Add more hidden layers if num_hidden_layers > 1\n",
        "            self.layers.append(nn.Linear(hidden_size, hidden_size))\n",
        "            self.layers.append(nn.ReLU())\n",
        "\n",
        "        # Output layer\n",
        "        self.layers.append(nn.Linear(hidden_size, output_size))\n",
        "\n",
        "    def forward(self, x):\n",
        "        for layer in self.layers:\n",
        "            x = layer(x)\n",
        "        return x\n",
        "\n",
        "# Create dataset and data loader\n",
        "dataset = TaxiDataset(X_train, y_train) # Assuming X_train and y_train are your training data\n",
        "\n",
        "train_size = int(0.8 * len(dataset))  # 80% for training\n",
        "val_size = len(dataset) - train_size  # Remaining 20% for validation\n",
        "\n",
        "train_dataset, val_dataset = random_split(dataset, [train_size, val_size])\n",
        "\n",
        "train_loader = DataLoader(train_dataset, batch_size=64, shuffle=True) # Adjust batch_size as needed\n",
        "val_loader = DataLoader(val_dataset, batch_size=1, shuffle=False)\n",
        "\n",
        "# Instantiate the model, loss function, and optimizer\n",
        "input_size = X_train.shape[1] # Number of features\n",
        "hidden_size = 128 # Hidden size as needed\n",
        "output_size = num_labels # Number of output classes\n",
        "num_hidden_layers = 10 # Number of hidden layers as needed\n",
        "model = MLP(input_size, hidden_size, output_size, num_hidden_layers=num_hidden_layers).to(device)\n",
        "criterion = nn.CrossEntropyLoss()\n",
        "optimizer = optim.Adam(model.parameters())\n",
        "\n",
        "# Training loop\n",
        "most_correct = 0\n",
        "best_model = None\n",
        "num_epochs = 10 # Number of epochs as needed\n",
        "for epoch in range(num_epochs):\n",
        "    model.train()\n",
        "    for batch_idx, (data, target) in enumerate(train_loader):\n",
        "        # Forward pass\n",
        "        outputs = model(data)\n",
        "        loss = criterion(outputs, target)\n",
        "\n",
        "        # Backward and optimize\n",
        "        optimizer.zero_grad()\n",
        "        loss.backward()\n",
        "        optimizer.step()\n",
        "\n",
        "        # # Print progress (optional)\n",
        "        # if batch_idx % 100 == 0:\n",
        "        #     print(f\"Epoch [{epoch+1}/{num_epochs}], Batch [{batch_idx+1}/{len(train_loader)}], Loss: {loss.item():.4f}\")\n",
        "\n",
        "\n",
        "\n",
        "    # Validation\n",
        "    model.eval()\n",
        "    corrects = 0\n",
        "    with torch.no_grad():\n",
        "        for batch_idx, (data, target) in enumerate(val_loader):\n",
        "            # Forward pass\n",
        "            outputs = model(data)\n",
        "            if target in torch.topk(outputs.flatten(), 5).indices:\n",
        "              corrects += 1\n",
        "    if corrects > most_correct:\n",
        "      most_correct = corrects\n",
        "      best_model = model\n",
        "      print('model updated')\n",
        "    acc = corrects/val_loader.__len__()\n",
        "    print(f\"Epoch [{epoch+1}/{num_epochs}], Validation accuracy: {acc:.4f}\")\n",
        "\n",
        "print(\"Training completed!\")"
      ],
      "metadata": {
        "colab": {
          "base_uri": "https://localhost:8080/"
        },
        "id": "ba7sFJ-j5Cex",
        "outputId": "862c2fbb-bd99-4bec-97c9-19330e4f075a"
      },
      "execution_count": 141,
      "outputs": [
        {
          "output_type": "stream",
          "name": "stdout",
          "text": [
            "Using device: cpu\n",
            "Epoch [1/10], Validation Loss: 0.2232\n",
            "Epoch [2/10], Validation Loss: 0.2290\n",
            "Epoch [3/10], Validation Loss: 0.2399\n",
            "Epoch [4/10], Validation Loss: 0.2413\n",
            "Epoch [5/10], Validation Loss: 0.2460\n",
            "Epoch [6/10], Validation Loss: 0.2495\n",
            "Epoch [7/10], Validation Loss: 0.2571\n",
            "Epoch [8/10], Validation Loss: 0.2577\n",
            "Epoch [9/10], Validation Loss: 0.2613\n",
            "Epoch [10/10], Validation Loss: 0.2686\n",
            "Training completed!\n"
          ]
        }
      ]
    },
    {
      "cell_type": "markdown",
      "source": [
        "### Testing accuracy"
      ],
      "metadata": {
        "id": "C0VdemktQ7m5"
      }
    },
    {
      "cell_type": "code",
      "source": [
        "test_dataset = TaxiDataset(X_test, y_test)\n",
        "test_loader = DataLoader(test_dataset, batch_size=1, shuffle=False)\n",
        "corrects = 0\n",
        "with torch.no_grad():\n",
        "  for batch_idx, (data, target) in enumerate(test_loader):\n",
        "      # Forward pass\n",
        "      outputs = best_model(data)\n",
        "      if y_test.iloc[batch_idx] in torch.topk(outputs.flatten(), 5).indices:\n",
        "        corrects += 1\n",
        "\n",
        "  print(corrects/len(y_test))"
      ],
      "metadata": {
        "colab": {
          "base_uri": "https://localhost:8080/"
        },
        "id": "QctRv3cPC1VZ",
        "outputId": "153b105f-0a83-46e7-d139-b5c6231f2b8a"
      },
      "execution_count": 142,
      "outputs": [
        {
          "output_type": "stream",
          "name": "stdout",
          "text": [
            "0.2709500172537361\n"
          ]
        }
      ]
    },
    {
      "cell_type": "markdown",
      "source": [
        "### Training accuracy"
      ],
      "metadata": {
        "id": "3Y1O9FjxRASK"
      }
    },
    {
      "cell_type": "code",
      "source": [
        "corrects = 0\n",
        "total_samples = 0  # Keep track of total samples\n",
        "\n",
        "with torch.no_grad():\n",
        "    for batch_idx, (data, target) in enumerate(train_loader):\n",
        "        # Forward pass\n",
        "        outputs = best_model(data)\n",
        "        _, predicted = torch.topk(outputs, 5, dim=1)  # Get top 5 predictions for each sample\n",
        "\n",
        "        # Check if target is in top 5 predictions for each sample\n",
        "        corrects += (predicted == target.unsqueeze(1)).any(dim=1).sum().item()\n",
        "\n",
        "        total_samples += target.size(0)  # Add batch size to total samples\n",
        "\n",
        "    accuracy = corrects / total_samples\n",
        "    print(f\"Training accuracy: {accuracy}\")"
      ],
      "metadata": {
        "colab": {
          "base_uri": "https://localhost:8080/"
        },
        "id": "N00pwWYpRwFG",
        "outputId": "e6026cfd-292e-4779-9792-c572175f7db6"
      },
      "execution_count": 150,
      "outputs": [
        {
          "output_type": "stream",
          "name": "stdout",
          "text": [
            "Training accuracy: 0.27023798661169773\n"
          ]
        }
      ]
    }
  ],
  "metadata": {
    "colab": {
      "provenance": [],
      "gpuType": "T4",
      "collapsed_sections": [
        "EMiaCYbP5CxN",
        "CTDhqR9qFIaM"
      ],
      "include_colab_link": true
    },
    "kernelspec": {
      "display_name": "Python 3",
      "name": "python3"
    },
    "language_info": {
      "name": "python"
    },
    "accelerator": "GPU"
  },
  "nbformat": 4,
  "nbformat_minor": 0
}